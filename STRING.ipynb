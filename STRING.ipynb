{
 "cells": [
  {
   "cell_type": "code",
   "execution_count": 12,
   "id": "54a11164",
   "metadata": {},
   "outputs": [
    {
     "name": "stdout",
     "output_type": "stream",
     "text": [
      "The string is Symmetrical\n"
     ]
    }
   ],
   "source": [
    "s = input(\"Enter a string: \")\n",
    "\n",
    "# Check palindrome\n",
    "is_palindrome = s == s[::-1]\n",
    "\n",
    "# Check symmetrical\n",
    "mid = len(s) // 2\n",
    "if len(s) % 2 == 0:\n",
    "    is_symmetrical = s[:mid] == s[mid:]\n",
    "else:\n",
    "    is_symmetrical = s[:mid] == s[mid+1:]\n",
    "\n",
    "# Print results\n",
    "if is_palindrome and is_symmetrical:\n",
    "    print(\"The string is Palindrome and Symmetrical\")\n",
    "elif is_palindrome:\n",
    "    print(\"The string is Palindrome\")\n",
    "elif is_symmetrical:\n",
    "    print(\"The string is Symmetrical\")\n",
    "else:\n",
    "    print(\"The string is neither Palindrome nor Symmetrical\")\n"
   ]
  },
  {
   "cell_type": "code",
   "execution_count": 11,
   "id": "6fb3622e",
   "metadata": {},
   "outputs": [
    {
     "name": "stdout",
     "output_type": "stream",
     "text": [
      "Geeks for Greeks\n"
     ]
    }
   ],
   "source": [
    "#Question2. Reverse words in a given String in Python\n",
    "a= \"Greeks for Geeks\"\n",
    "reversed_words = ' '.join(a.split()[::-1])\n",
    "print(reversed_words)  # Output: Geeks for Greeks\n"
   ]
  },
  {
   "cell_type": "code",
   "execution_count": 5,
   "id": "0fba06bc",
   "metadata": {},
   "outputs": [
    {
     "name": "stdout",
     "output_type": "stream",
     "text": [
      " Hp Pavllon\n"
     ]
    }
   ],
   "source": [
    "# Question3.Ways to remove i’th character from string in Python\n",
    "a = \" Hp Pavillion\"\n",
    "a= a.replace(\"i\", \"\")\n",
    "print(a)\n",
    "\n"
   ]
  },
  {
   "cell_type": "code",
   "execution_count": 21,
   "id": "5e73585b",
   "metadata": {},
   "outputs": [
    {
     "name": "stdout",
     "output_type": "stream",
     "text": [
      "13\n"
     ]
    }
   ],
   "source": [
    "#Question4.Find length of a string in python (4 ways)\n",
    "#1. Using len() function\n",
    "\n",
    "# a=\"Hello World\"\n",
    "# print(len(a))\n",
    "\n",
    "#2 Using for loop and 'in' operator\n",
    "\n",
    "# a=\"Hello World\"\n",
    "# count=0\n",
    "# for i in a:\n",
    "#     count+=1\n",
    "\n",
    "# print(count)\n",
    "\n",
    "#3 Using for loop and 'in' operator\n",
    "\n",
    "# string = \"Hello, World!\"\n",
    "# count = 0\n",
    "# while string:\n",
    "#     count += 1\n",
    "#     string = string[1:]\n",
    "# print(count)  # Output: 13\n",
    "\n",
    "\n",
    "#4 Using for loop 'in' operator \n",
    "def string_length(str):\n",
    "  \n",
    "#   This function takes a string as input and returns its length.\n",
    "  \n",
    "  count = 0\n",
    "  for char in str:\n",
    "    count += 1\n",
    "  return count\n",
    "\n",
    "print(count)\n"
   ]
  },
  {
   "cell_type": "code",
   "execution_count": null,
   "id": "8dc50099",
   "metadata": {},
   "outputs": [
    {
     "name": "stdout",
     "output_type": "stream",
     "text": [
      "13\n",
      "16\n"
     ]
    }
   ],
   "source": [
    "#Queestion5.Python – Avoid Spaces in string length\n",
    "a = \"Geeks for Geeks \"\n",
    "res= len(a.replace(\" \", \"\"))\n",
    "print(res) # Output: 13 without spaces \n",
    "\n",
    "print(len(a))  # Output: 15 with spaces \n",
    "\n"
   ]
  },
  {
   "cell_type": "code",
   "execution_count": 18,
   "id": "b30736f5",
   "metadata": {},
   "outputs": [
    {
     "name": "stdout",
     "output_type": "stream",
     "text": [
      "4 This\n",
      "2 is\n",
      "2 an\n"
     ]
    }
   ],
   "source": [
    "#Question6.Python program to print even length words in a string \n",
    "#Solution6\n",
    "def print_even_length_words(s):\n",
    "    words = s.split()\n",
    "    for w in words:\n",
    "        if len(w) % 2 == 0:\n",
    "         print(len(w), w)\n",
    "\n",
    "a = input(\"Enter a sentence: \")\n",
    "print_even_length_words(a)\n",
    "\n",
    "\n"
   ]
  },
  {
   "cell_type": "code",
   "execution_count": 20,
   "id": "97b1e4e1",
   "metadata": {},
   "outputs": [
    {
     "name": "stdout",
     "output_type": "stream",
     "text": [
      "Result: PYTHOncode\n"
     ]
    }
   ],
   "source": [
    "#Queston 7.Python – Uppercase Half String\n",
    "\n",
    "#Write a Python program to print the uppercase half string of a given string.\n",
    "def uppercase_half_string(s):\n",
    "    half = len(s) // 2\n",
    "    first_half = s[:half].upper()\n",
    "    second_half = s[half:]\n",
    "    result = first_half + second_half\n",
    "    return result\n",
    "\n",
    "# Input from user\n",
    "text = input(\"Enter a string: \")\n",
    "print(\"Result:\", uppercase_half_string(text))\n"
   ]
  },
  {
   "cell_type": "code",
   "execution_count": 24,
   "id": "1455ec4a",
   "metadata": {},
   "outputs": [
    {
     "name": "stdout",
     "output_type": "stream",
     "text": [
      "Output: HellO WorlD FroM PythoN\n"
     ]
    }
   ],
   "source": [
    "#Question 8.Python program to capitalize the first and last character of each word in a string\n",
    "#Solution\n",
    "\n",
    "\n",
    "def capitalize_first_last(string):\n",
    "    words = string.split()\n",
    "    result = []\n",
    "\n",
    "    for char in words:\n",
    "        if len(char) == 1:\n",
    "            result.append(char.upper())\n",
    "        else:\n",
    "            new_word = char[0].upper() + char[1:-1] + char[-1].upper()\n",
    "            result.append(new_word)\n",
    "\n",
    "    return ' '.join(result)\n",
    "\n",
    "# Example usage\n",
    "input_string = input(\"Enter a sentence\")\n",
    "output_string = capitalize_first_last(input_string)\n",
    "print(\"Output:\", output_string)\n",
    "\n",
    "\n",
    "\n"
   ]
  },
  {
   "cell_type": "code",
   "execution_count": null,
   "id": "81fb6c82",
   "metadata": {},
   "outputs": [],
   "source": []
  },
  {
   "cell_type": "code",
   "execution_count": null,
   "id": "84640166",
   "metadata": {},
   "outputs": [],
   "source": []
  }
 ],
 "metadata": {
  "kernelspec": {
   "display_name": "base",
   "language": "python",
   "name": "python3"
  },
  "language_info": {
   "codemirror_mode": {
    "name": "ipython",
    "version": 3
   },
   "file_extension": ".py",
   "mimetype": "text/x-python",
   "name": "python",
   "nbconvert_exporter": "python",
   "pygments_lexer": "ipython3",
   "version": "3.12.7"
  }
 },
 "nbformat": 4,
 "nbformat_minor": 5
}
