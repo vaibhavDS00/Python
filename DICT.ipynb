{
 "cells": [
  {
   "cell_type": "code",
   "execution_count": 5,
   "id": "df27a975-50c4-4e32-b69e-6119db2fb533",
   "metadata": {},
   "outputs": [
    {
     "name": "stdout",
     "output_type": "stream",
     "text": [
      "{'brand': 'BMW', 'model': 'IX', 'years': 1964}\n"
     ]
    }
   ],
   "source": [
    "car_dict={\"brand\":\"BMW\",\"model\":\"IX\",\"years\":1964}\n",
    "print(car_dict)"
   ]
  },
  {
   "cell_type": "code",
   "execution_count": 6,
   "id": "00087c48-534c-43fb-871d-3f4d7f10eca3",
   "metadata": {},
   "outputs": [
    {
     "name": "stdout",
     "output_type": "stream",
     "text": [
      "BMW\n"
     ]
    }
   ],
   "source": [
    "#to acces items\n",
    "print(car_dict[\"brand\"])"
   ]
  },
  {
   "cell_type": "code",
   "execution_count": 7,
   "id": "bb30a72d-6e76-458f-bc75-23f26a820dd1",
   "metadata": {},
   "outputs": [
    {
     "name": "stdout",
     "output_type": "stream",
     "text": [
      "3\n"
     ]
    }
   ],
   "source": [
    "print(len(car_dict))"
   ]
  },
  {
   "cell_type": "code",
   "execution_count": 8,
   "id": "bfe7eae2-60ff-4167-a1f3-122a46295031",
   "metadata": {},
   "outputs": [
    {
     "name": "stdout",
     "output_type": "stream",
     "text": [
      "<class 'dict'>\n"
     ]
    }
   ],
   "source": [
    "#type of data\n",
    "print(type(car_dict))"
   ]
  },
  {
   "cell_type": "code",
   "execution_count": 9,
   "id": "79683a20-b2f6-472d-bcb0-3ec4dbe24cca",
   "metadata": {},
   "outputs": [
    {
     "data": {
      "text/plain": [
       "{'brand': 'bmw', 'model': 'ix', 'year': 2000}"
      ]
     },
     "execution_count": 9,
     "metadata": {},
     "output_type": "execute_result"
    }
   ],
   "source": [
    "#for duplicate keys\n",
    "car_dict2 ={\"brand\":\"bmw\",\"model\":\"ix\",\"year\":1964,\"year\":2000}\n",
    "car_dict2"
   ]
  },
  {
   "cell_type": "code",
   "execution_count": 10,
   "id": "0b66d50d-b1d6-415a-a964-e580fd85d591",
   "metadata": {},
   "outputs": [
    {
     "data": {
      "text/plain": [
       "{'brand': 'bmw', 'model': 'ix', 'year': 2000}"
      ]
     },
     "execution_count": 10,
     "metadata": {},
     "output_type": "execute_result"
    }
   ],
   "source": [
    "v = {\"brand\":\"bmw\",\"model\":\"ix\",\"year\":1964,\"year\":2024,\"year\":2000}\n",
    "v"
   ]
  },
  {
   "cell_type": "code",
   "execution_count": 11,
   "id": "345667c8-1573-48a2-9d46-fd049af3a0c9",
   "metadata": {},
   "outputs": [
    {
     "data": {
      "text/plain": [
       "'IX'"
      ]
     },
     "execution_count": 11,
     "metadata": {},
     "output_type": "execute_result"
    }
   ],
   "source": [
    "#to acces items\n",
    "x = car_dict.get(\"model\")\n",
    "x"
   ]
  },
  {
   "cell_type": "code",
   "execution_count": 12,
   "id": "d0d8d10d-ccd8-435a-b23d-0ab86ad840d5",
   "metadata": {},
   "outputs": [
    {
     "data": {
      "text/plain": [
       "dict_keys(['brand', 'model', 'years'])"
      ]
     },
     "execution_count": 12,
     "metadata": {},
     "output_type": "execute_result"
    }
   ],
   "source": [
    "car_dict.keys()#it returns all the key items"
   ]
  },
  {
   "cell_type": "code",
   "execution_count": 13,
   "id": "92a73605-c542-4347-b549-c06b111bafb3",
   "metadata": {},
   "outputs": [
    {
     "data": {
      "text/plain": [
       "dict_values(['BMW', 'IX', 1964])"
      ]
     },
     "execution_count": 13,
     "metadata": {},
     "output_type": "execute_result"
    }
   ],
   "source": [
    "car_dict.values()"
   ]
  },
  {
   "cell_type": "code",
   "execution_count": 14,
   "id": "083e755e-876b-44af-8b99-458777b4d872",
   "metadata": {},
   "outputs": [
    {
     "data": {
      "text/plain": [
       "{'brand': 'BMW', 'model': 'IX', 'years': 2024}"
      ]
     },
     "execution_count": 14,
     "metadata": {},
     "output_type": "execute_result"
    }
   ],
   "source": [
    "car_dict[\"years\"]=2024 #to change values\n",
    "car_dict"
   ]
  },
  {
   "cell_type": "code",
   "execution_count": 15,
   "id": "37b96562-dbe3-4fed-b6aa-68baf31956d8",
   "metadata": {},
   "outputs": [
    {
     "data": {
      "text/plain": [
       "{'brand': 'BMW', 'model': 'IX', 'years': 2024, 'color': 'white'}"
      ]
     },
     "execution_count": 15,
     "metadata": {},
     "output_type": "execute_result"
    }
   ],
   "source": [
    "car_dict[\"color\"]= \"white\" #to change values\n",
    "car_dict"
   ]
  },
  {
   "cell_type": "code",
   "execution_count": 16,
   "id": "00fd3e55-d460-45e6-ade8-1e3775cd2a80",
   "metadata": {},
   "outputs": [
    {
     "data": {
      "text/plain": [
       "{'name': 'a', 'year': 2023, 'pass': True, 'marks': [50, 60, 70]}"
      ]
     },
     "execution_count": 16,
     "metadata": {},
     "output_type": "execute_result"
    }
   ],
   "source": [
    "#the value in dict \n",
    "s = {\"name\":\"a\",\"year\":2023,\"pass\":True,\"marks\":[50,60,70]}\n",
    "s"
   ]
  },
  {
   "cell_type": "code",
   "execution_count": 17,
   "id": "46a9bd54-c45c-4a99-bed8-08bfe10b866f",
   "metadata": {},
   "outputs": [
    {
     "data": {
      "text/plain": [
       "{'name': 'a', 'year': 2024, 'pass': True, 'marks': [50, 60, 70]}"
      ]
     },
     "execution_count": 17,
     "metadata": {},
     "output_type": "execute_result"
    }
   ],
   "source": [
    "s.update({\"year\":2024})\n",
    "s"
   ]
  },
  {
   "cell_type": "code",
   "execution_count": 18,
   "id": "9eb5aa87-86fe-4228-924a-d862a75d584a",
   "metadata": {},
   "outputs": [
    {
     "data": {
      "text/plain": [
       "{'name': 'a',\n",
       " 'year': 2024,\n",
       " 'pass': True,\n",
       " 'marks': [50, 60, 70],\n",
       " 'phone_no': 94566}"
      ]
     },
     "execution_count": 18,
     "metadata": {},
     "output_type": "execute_result"
    }
   ],
   "source": [
    "s[\"phone_no\"]=94566\n",
    "s"
   ]
  },
  {
   "cell_type": "code",
   "execution_count": 19,
   "id": "4f2b2688-aeb2-48e2-b604-970ed5b7cfa4",
   "metadata": {},
   "outputs": [
    {
     "data": {
      "text/plain": [
       "{'name': 'a',\n",
       " 'year': 2024,\n",
       " 'pass': True,\n",
       " 'marks': [50, 60, 70],\n",
       " 'phone_no': 94566,\n",
       " 'email': 'jshdhjd@gmail.com'}"
      ]
     },
     "execution_count": 19,
     "metadata": {},
     "output_type": "execute_result"
    }
   ],
   "source": [
    "s.update({\"email\":\"jshdhjd@gmail.com\"})\n",
    "s"
   ]
  },
  {
   "cell_type": "code",
   "execution_count": 20,
   "id": "3ebdedff-3ecd-4012-bf61-b949d4fb95dc",
   "metadata": {},
   "outputs": [
    {
     "data": {
      "text/plain": [
       "94566"
      ]
     },
     "execution_count": 20,
     "metadata": {},
     "output_type": "execute_result"
    }
   ],
   "source": [
    "s.pop(\"phone_no\")"
   ]
  },
  {
   "cell_type": "code",
   "execution_count": 21,
   "id": "4aab5416-644a-4be3-945e-fa3c0708715a",
   "metadata": {},
   "outputs": [
    {
     "data": {
      "text/plain": [
       "{'name': 'a',\n",
       " 'year': 2024,\n",
       " 'pass': True,\n",
       " 'marks': [50, 60, 70],\n",
       " 'email': 'jshdhjd@gmail.com'}"
      ]
     },
     "execution_count": 21,
     "metadata": {},
     "output_type": "execute_result"
    }
   ],
   "source": [
    "s"
   ]
  },
  {
   "cell_type": "code",
   "execution_count": 22,
   "id": "8ba577b6-7010-4434-af93-4edd09ad8ae3",
   "metadata": {},
   "outputs": [
    {
     "data": {
      "text/plain": [
       "('email', 'jshdhjd@gmail.com')"
      ]
     },
     "execution_count": 22,
     "metadata": {},
     "output_type": "execute_result"
    }
   ],
   "source": [
    "s.popitem()"
   ]
  },
  {
   "cell_type": "code",
   "execution_count": 23,
   "id": "2a7865af-2da8-40e5-a2f8-24d10d944759",
   "metadata": {},
   "outputs": [
    {
     "data": {
      "text/plain": [
       "{'name': 'a', 'year': 2024, 'pass': True, 'marks': [50, 60, 70]}"
      ]
     },
     "execution_count": 23,
     "metadata": {},
     "output_type": "execute_result"
    }
   ],
   "source": [
    "s"
   ]
  },
  {
   "cell_type": "code",
   "execution_count": 24,
   "id": "52552e19-578a-41d0-aca3-bf97995a5588",
   "metadata": {},
   "outputs": [
    {
     "data": {
      "text/plain": [
       "{'name': 'a', 'year': 2024, 'pass': True}"
      ]
     },
     "execution_count": 24,
     "metadata": {},
     "output_type": "execute_result"
    }
   ],
   "source": [
    "del s['marks']\n",
    "s"
   ]
  },
  {
   "cell_type": "code",
   "execution_count": 25,
   "id": "b39c89af-b0af-4d05-acdc-3a55f4792b64",
   "metadata": {},
   "outputs": [
    {
     "data": {
      "text/plain": [
       "{}"
      ]
     },
     "execution_count": 25,
     "metadata": {},
     "output_type": "execute_result"
    }
   ],
   "source": [
    "s.clear()\n",
    "s"
   ]
  },
  {
   "cell_type": "code",
   "execution_count": 26,
   "id": "48f98169-de08-4b76-8a7a-c7bdacb9935e",
   "metadata": {},
   "outputs": [
    {
     "data": {
      "text/plain": [
       "{'brand': 'BMW', 'model': 'IX', 'years': 2024, 'color': 'white'}"
      ]
     },
     "execution_count": 26,
     "metadata": {},
     "output_type": "execute_result"
    }
   ],
   "source": [
    "d4 = car_dict.copy()\n",
    "d4"
   ]
  },
  {
   "cell_type": "code",
   "execution_count": 50,
   "id": "d080d0ab-52c7-405d-978c-bb8b5d5e5695",
   "metadata": {},
   "outputs": [
    {
     "data": {
      "text/plain": [
       "{'brand': 'BMW', 'model': 'IX', 'years': 2024, 'color': 'white'}"
      ]
     },
     "execution_count": 50,
     "metadata": {},
     "output_type": "execute_result"
    }
   ],
   "source": [
    "d5 = dict(car_dict)\n",
    "d5"
   ]
  },
  {
   "cell_type": "code",
   "execution_count": 60,
   "id": "8ca35306-30fa-40da-9d58-50366cd86029",
   "metadata": {},
   "outputs": [],
   "source": [
    "#nested dict\n",
    "myfamily = {\n",
    "    \"child1\" : {\n",
    "        \"name\" : \"email\",\n",
    "        \"year\" : 2004\n",
    "    },\n",
    "    \"child2\" : {\n",
    "        \"name\" : \"tobias\",\n",
    "        \"year\" : 2007\n",
    "    },\n",
    "    \"child3\" : {\n",
    "        \"name\" : \"tty\",\n",
    "        \"year\" : 2008\n",
    "    }\n",
    "}\n",
    "    \n",
    "    "
   ]
  },
  {
   "cell_type": "code",
   "execution_count": 62,
   "id": "b584857b-1319-4c14-ac9d-b39f212b54e4",
   "metadata": {},
   "outputs": [
    {
     "data": {
      "text/plain": [
       "{'child1': {'name': 'email', 'year': 2004},\n",
       " 'child2': {'name': 'tobias', 'year': 2007},\n",
       " 'child3': {'name': 'tty', 'year': 2008}}"
      ]
     },
     "execution_count": 62,
     "metadata": {},
     "output_type": "execute_result"
    }
   ],
   "source": [
    "myfamily"
   ]
  },
  {
   "cell_type": "code",
   "execution_count": 64,
   "id": "6579ec3d-ea4f-4558-80ee-36be4de17144",
   "metadata": {},
   "outputs": [
    {
     "name": "stdout",
     "output_type": "stream",
     "text": [
      "tobias\n"
     ]
    }
   ],
   "source": [
    "print(myfamily[\"child2\"][\"name\"])"
   ]
  },
  {
   "cell_type": "code",
   "execution_count": null,
   "id": "894dcd4a-1267-4337-bb9e-4358a3755242",
   "metadata": {},
   "outputs": [],
   "source": [
    "game = input(\"game name:\")\n"
   ]
  }
 ],
 "metadata": {
  "kernelspec": {
   "display_name": "Python [conda env:base] *",
   "language": "python",
   "name": "conda-base-py"
  },
  "language_info": {
   "codemirror_mode": {
    "name": "ipython",
    "version": 3
   },
   "file_extension": ".py",
   "mimetype": "text/x-python",
   "name": "python",
   "nbconvert_exporter": "python",
   "pygments_lexer": "ipython3",
   "version": "3.12.7"
  }
 },
 "nbformat": 4,
 "nbformat_minor": 5
}
