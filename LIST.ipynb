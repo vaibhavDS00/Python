{
 "cells": [
  {
   "cell_type": "code",
   "execution_count": null,
   "id": "890d0589",
   "metadata": {},
   "outputs": [
    {
     "name": "stdout",
     "output_type": "stream",
     "text": [
      "List after swapping first and last element [6, 2, 3, 4, 5, 1]\n"
     ]
    }
   ],
   "source": [
    "#Que1-python-program-to-interchange-first-and-last-elements-in-a-list\n",
    "l1=[1,2,3,4,5,6]\n",
    "\n",
    "#Changing First and Last element\n",
    "l1[0], l1[-1]= l1[-1], l1[0]\n",
    "\n",
    "print(\"List after swapping first and last element\",l1)"
   ]
  },
  {
   "cell_type": "code",
   "execution_count": null,
   "id": "691b09af",
   "metadata": {},
   "outputs": [
    {
     "name": "stdout",
     "output_type": "stream",
     "text": [
      "[5, 2, 3, 4, 1]\n"
     ]
    }
   ],
   "source": [
    "# Que2- Python program to swap two elements in my_list list\n",
    "my_list = [1, 2, 3, 4, 5]\n",
    "\n",
    "#Swapping elements at index 0 and 4\n",
    "my_list[0], my_list[4] = my_list[4], my_list[0]\n",
    "\n",
    "# Swap elements using tuple unpacking\n",
    "print(my_list)  \n"
   ]
  },
  {
   "cell_type": "code",
   "execution_count": 6,
   "id": "c75ec040",
   "metadata": {},
   "outputs": [
    {
     "name": "stdout",
     "output_type": "stream",
     "text": [
      "List after swapping: ['apple', 'date', 'cherry', 'banana']\n"
     ]
    }
   ],
   "source": [
    "#Que3- Python – Swap elements in String list\n",
    " # Original list\n",
    "fruits = [\"apple\", \"banana\", \"cherry\", \"date\"]\n",
    "\n",
    "# Swap elements at index 1 and 3\n",
    "fruits[1], fruits[3] = fruits[3], fruits[1]\n",
    "\n",
    "print(\"List after swapping:\", fruits)\n"
   ]
  },
  {
   "cell_type": "code",
   "execution_count": null,
   "id": "bb6b9c65",
   "metadata": {},
   "outputs": [
    {
     "name": "stdout",
     "output_type": "stream",
     "text": [
      "10\n"
     ]
    }
   ],
   "source": [
    "#Que4. Python | Ways to find length of list\n",
    "my_list = [1,2,3,4,5,6,7,8,9,10]\n",
    "print(len(my_list))"
   ]
  },
  {
   "cell_type": "code",
   "execution_count": null,
   "id": "2ff2b7b5",
   "metadata": {},
   "outputs": [
    {
     "name": "stdout",
     "output_type": "stream",
     "text": [
      "25\n"
     ]
    }
   ],
   "source": [
    "#Que5.Maximum of two numbers in Python\n",
    "a = 10  \n",
    "b = 25\n",
    "print(max(a, b))"
   ]
  },
  {
   "cell_type": "code",
   "execution_count": 13,
   "id": "6b59e141",
   "metadata": {},
   "outputs": [
    {
     "name": "stdout",
     "output_type": "stream",
     "text": [
      "10\n"
     ]
    }
   ],
   "source": [
    "#Que6. Minimum of two numbers in Python\n",
    "a = 10  \n",
    "b = 25\n",
    "print(min(a, b))"
   ]
  },
  {
   "cell_type": "code",
   "execution_count": 19,
   "id": "8860dc1b",
   "metadata": {},
   "outputs": [
    {
     "name": "stdout",
     "output_type": "stream",
     "text": [
      "Yes, Element exists in list\n",
      "No, Element exists in list\n"
     ]
    }
   ],
   "source": [
    "#Que7. Python | Ways to check if element exists in list\n",
    "my_list=[1,2,3,4,5,6]\n",
    "if 5 in my_list:\n",
    "    print(\"Yes, Element exists in list\")\n",
    "else:\n",
    "    print(\"Yes, Element exists in list\")\n",
    "                    #OR\n",
    "my_list=[1,2,3,4,5,6]\n",
    "if 9 in my_list:\n",
    "    print(\"Yes, Element exists in list\")\n",
    "else:\n",
    "    print(\"No, Element exists in list\") #Output"
   ]
  },
  {
   "cell_type": "code",
   "execution_count": null,
   "id": "18c4602b",
   "metadata": {},
   "outputs": [
    {
     "name": "stdout",
     "output_type": "stream",
     "text": [
      "List after clearing: []\n"
     ]
    }
   ],
   "source": [
    "#Que8. Different ways to clear a list in Python\n",
    "a = [1, 2, 3, 4, 5]\n",
    "a.clear()\n",
    "print(\"List after clearing:\", a)\n"
   ]
  },
  {
   "cell_type": "code",
   "execution_count": null,
   "id": "9fdd272d",
   "metadata": {},
   "outputs": [
    {
     "name": "stdout",
     "output_type": "stream",
     "text": [
      "List after clearing: [5, 4, 3, 2, 1]\n"
     ]
    }
   ],
   "source": [
    "#Que9. Python | Reversing a List\n",
    "a = [1, 2, 3, 4, 5]\n",
    "a.reverse()\n",
    "print(\"List after reversing:\", a)\n"
   ]
  },
  {
   "cell_type": "code",
   "execution_count": null,
   "id": "79d1cf6d",
   "metadata": {},
   "outputs": [
    {
     "name": "stdout",
     "output_type": "stream",
     "text": [
      "[1, 2, 3, 4, 5]\n"
     ]
    }
   ],
   "source": [
    "#Que10. Python | Cloning or Copying a list\n",
    "a = [1, 2, 3, 4, 5]\n",
    "b=a.copy()\n",
    "print(b)"
   ]
  },
  {
   "cell_type": "code",
   "execution_count": 40,
   "id": "873f279a",
   "metadata": {},
   "outputs": [
    {
     "data": {
      "text/plain": [
       "6"
      ]
     },
     "execution_count": 40,
     "metadata": {},
     "output_type": "execute_result"
    }
   ],
   "source": [
    "#Que11. Python | Count occurrences of an element in a list\n",
    "my_list=[1,1,1,2,2,2,2,3,3,3,3,3,3,4,5,6,7,]\n",
    "my_list.count(3)\n"
   ]
  },
  {
   "cell_type": "code",
   "execution_count": 49,
   "id": "88c18d5d",
   "metadata": {},
   "outputs": [
    {
     "name": "stdout",
     "output_type": "stream",
     "text": [
      "sum: 173\n",
      "average: 34.6\n"
     ]
    }
   ],
   "source": [
    "#Que12-12. Python Program to find sum and average of List in Python\n",
    "numbers= [20,25,35,43,50]\n",
    "# Calculate sum\n",
    "total=sum(numbers)\n",
    "# Calculate average\n",
    "average = total / len(numbers)\n",
    "print(\"sum:\",total)\n",
    "print(\"average:\",average)"
   ]
  },
  {
   "cell_type": "code",
   "execution_count": 3,
   "id": "aa806405",
   "metadata": {},
   "outputs": [
    {
     "name": "stdout",
     "output_type": "stream",
     "text": [
      "[4, 15, 24]\n"
     ]
    }
   ],
   "source": [
    "#Que13. Python | Sum of number digits in List\n",
    "a = [121, 456, 789]\n",
    "res = []\n",
    "\n",
    "for val in a:\n",
    "    sum= 0\n",
    "    while val > 0:\n",
    "        sum= sum+val % 10\n",
    "        val= val//10\n",
    "    res.append(sum)\n",
    "\n",
    "print(res)"
   ]
  },
  {
   "cell_type": "code",
   "execution_count": 3,
   "id": "487c6b02",
   "metadata": {},
   "outputs": [
    {
     "name": "stdout",
     "output_type": "stream",
     "text": [
      "48\n"
     ]
    }
   ],
   "source": [
    "# Que14. Python | Multiply all numbers in the list\n",
    "a=[2,4,6]\n",
    "res=1\n",
    "for val in a:\n",
    "    res=res*val\n",
    "    \n",
    "print(res)\n",
    "\n",
    "\n"
   ]
  },
  {
   "cell_type": "code",
   "execution_count": 14,
   "id": "29b70d7d",
   "metadata": {},
   "outputs": [
    {
     "name": "stdout",
     "output_type": "stream",
     "text": [
      "Smallest number in the list is: 2\n"
     ]
    }
   ],
   "source": [
    "#Que15.Python program to find smallest number in a list\n",
    "l1=[4,3,2,5,6,7]\n",
    "# Find the smallest number\n",
    "smallest=min(l1)\n",
    "print(\"Smallest number in the list is:\", smallest)"
   ]
  },
  {
   "cell_type": "code",
   "execution_count": null,
   "id": "f79f2543",
   "metadata": {},
   "outputs": [
    {
     "name": "stdout",
     "output_type": "stream",
     "text": [
      "Largest number in the list is: 76\n"
     ]
    }
   ],
   "source": [
    "#Que16. Python program to find largest number in a list\n",
    "a = [10, 24, 76, 23, 12]\n",
    "# Find the largest number\n",
    "largest_num = max(a)\n",
    "print(\"Largest number in the list is:\", largest_num)"
   ]
  },
  {
   "cell_type": "code",
   "execution_count": null,
   "id": "ac5b1544",
   "metadata": {},
   "outputs": [
    {
     "name": "stdout",
     "output_type": "stream",
     "text": [
      "Largest number in the list is: 24\n"
     ]
    }
   ],
   "source": [
    "#Que17.Python program to find second largest number in a list\n",
    "\n",
    "\n",
    "# Sample list\n",
    "numbers = [10, 25, 45, 15, 60, 45]\n",
    "\n",
    "# Initialize variables\n",
    "largest = second_largest = float('-inf')\n",
    "\n",
    "# Loop through the list\n",
    "for num in numbers:\n",
    "    if num > largest:\n",
    "        second_largest = largest\n",
    "        largest = num\n",
    "    elif num > second_largest and num != largest:\n",
    "        second_largest = num\n",
    "\n",
    "# Print the result\n",
    "if second_largest == float('-inf'):\n",
    "    print(\"There is no second largest number.\")\n",
    "else:\n",
    "    print(\"The second largest number is:\", second_largest)\n",
    "\n"
   ]
  },
  {
   "cell_type": "code",
   "execution_count": 22,
   "id": "792031bb",
   "metadata": {},
   "outputs": [
    {
     "name": "stdout",
     "output_type": "stream",
     "text": [
      "2, 4, 6, 8, 10, "
     ]
    }
   ],
   "source": [
    "#Que18.Python program to print even numbers in a list\n",
    "even_numbers= [ 1, 2, 3, 4, 5, 6, 7, 8, 9, 10]\n",
    "\n",
    "for i in even_numbers:\n",
    "    if i % 2 == 0:\n",
    "        print(i, end=\", \")\n"
   ]
  },
  {
   "cell_type": "code",
   "execution_count": 24,
   "id": "5273b0ab",
   "metadata": {},
   "outputs": [
    {
     "name": "stdout",
     "output_type": "stream",
     "text": [
      "1,3,5,7,9,"
     ]
    }
   ],
   "source": [
    "#Que19.Python program to print odd numbers in a List\n",
    "odd_numbers= [ 1, 2, 3, 4, 5, 6, 7, 8, 9, 10]\n",
    "\n",
    "for i in odd_numbers:\n",
    "    if i % 2 != 0:\n",
    "        print(i, end=\",\")"
   ]
  },
  {
   "cell_type": "code",
   "execution_count": 28,
   "id": "2a851c6b",
   "metadata": {},
   "outputs": [
    {
     "name": "stdout",
     "output_type": "stream",
     "text": [
      "Even numbers between 1 and 20 are:\n",
      "2 4 6 8 10 12 14 16 18 20 "
     ]
    }
   ],
   "source": [
    "#Que20.Python program to print all even numbers in a range\n",
    "a= int(input(\"Enter start of range:\"))\n",
    "b= int(input(\"Enter end of range:\"))\n",
    "\n",
    "print(f\"Even numbers between {a} and {b} are:\")\n",
    "for i in range(a,b+1):\n",
    "    if i %2 == 0:\n",
    "        print(i,end=\" \")\n"
   ]
  },
  {
   "cell_type": "code",
   "execution_count": 30,
   "id": "867210b0",
   "metadata": {},
   "outputs": [
    {
     "name": "stdout",
     "output_type": "stream",
     "text": [
      "Odd numbers between1and 20 are:\n",
      "1 3 5 7 9 11 13 15 17 19 "
     ]
    }
   ],
   "source": [
    "#Que21.Python program to print all odd numbers in a range\n",
    "a = int(input(\"Enter the start of range:\"))\n",
    "b = int(input(\"Enter the end  of range:\"))\n",
    "\n",
    "print(f\"Odd numbers between{a}and {b} are:\")\n",
    "\n",
    "for i in range(a,b+1):\n",
    "    if i % 2 != 0:\n",
    "        print(i,end=\" \")\n",
    "\n",
    "\n",
    "\n"
   ]
  },
  {
   "cell_type": "code",
   "execution_count": null,
   "id": "12aba245",
   "metadata": {},
   "outputs": [
    {
     "name": "stdout",
     "output_type": "stream",
     "text": [
      "Even numbers count: 4\n",
      "Odd numbers count: 5\n"
     ]
    }
   ],
   "source": [
    "#Que22.Python program to count Even and Odd numbers in a List\n",
    "\n",
    "a = [1, 2, 3, 4, 5, 6, 7, 8, 9]\n",
    "\n",
    "#Counters\n",
    "even_count=0\n",
    "odd_count=0\n",
    "\n",
    "#Loop through the list\n",
    "for i in a:\n",
    "    if i %2 ==0:\n",
    "        even_count +=1\n",
    "    else:\n",
    "        odd_count +=1\n",
    "\n",
    "print(\"Even numbers count:\", even_count)\n",
    "print(\"Odd numbers count:\", odd_count)\n"
   ]
  },
  {
   "cell_type": "code",
   "execution_count": 3,
   "id": "cb5ca96a",
   "metadata": {},
   "outputs": [
    {
     "name": "stdout",
     "output_type": "stream",
     "text": [
      "Positive numbers in the list are:\n",
      "15\n",
      "22\n",
      "8\n"
     ]
    }
   ],
   "source": [
    "#Que23.Python program to print positive numbers in a list\n",
    "# Sample list\n",
    "numbers = [-10, 15, 0, -7, 22, -3, 8]\n",
    "\n",
    "# Loop through the list\n",
    "print(\"Positive numbers in the list are:\")\n",
    "for num in numbers:\n",
    "    if num > 0:\n",
    "        print(num)\n"
   ]
  },
  {
   "cell_type": "code",
   "execution_count": 9,
   "id": "56aefce3",
   "metadata": {},
   "outputs": [
    {
     "name": "stdout",
     "output_type": "stream",
     "text": [
      "Negative numbers in the list are:\n",
      "-10\n",
      "-7\n",
      "-3\n"
     ]
    }
   ],
   "source": [
    "#Que24.Python program to print positive numbers in a list\n",
    "# Sample list\n",
    "numbers = [-10, 15, 0, -7, 22, -3, 8]\n",
    "\n",
    "# Loop through the list\n",
    "print(\"Negative numbers in the list are:\")\n",
    "for num in numbers:\n",
    "    if num < 0:\n",
    "        print(num)\n"
   ]
  },
  {
   "cell_type": "code",
   "execution_count": 20,
   "id": "8ef969fd",
   "metadata": {},
   "outputs": [
    {
     "name": "stdout",
     "output_type": "stream",
     "text": [
      "Positive numbers from 1 to 10 are:\n",
      "1,2,3,4,5,6,7,8,9,10,"
     ]
    }
   ],
   "source": [
    "# 25.Python program to print all positive numbers in a range  \n",
    "start= int(input(\"Enter the start of the range:\" ))\n",
    "end= int(input(\"Enter the end of the range:\" ))\n",
    "\n",
    "print(f\"Positive numbers from {start} to {end} are:\")\n",
    "\n",
    "for  num in range(start,end+1):\n",
    "    if num >0:\n",
    "        print(num, end=\",\")\n",
    "\n"
   ]
  },
  {
   "cell_type": "code",
   "execution_count": null,
   "id": "85aec6fa",
   "metadata": {},
   "outputs": [
    {
     "name": "stdout",
     "output_type": "stream",
     "text": [
      "Negative numbers from-10 to10are:\n",
      "-10,-9,-8,-7,-6,-5,-4,-3,-2,-1,"
     ]
    }
   ],
   "source": [
    "\n",
    "# 26.  Python program to print all negative numbers in a range \n",
    "start=int(input(\"Enter the start of the range \"))\n",
    "end=int(input(\"Enter the end of the range\"))\n",
    "\n",
    "print(f\"Negative numbers from{start} to{end}are:\")\n",
    "\n",
    "for num in range(start,end+1):\n",
    "    if num <0:\n",
    "        print(num, end=\",\")\n",
    " \n"
   ]
  },
  {
   "cell_type": "code",
   "execution_count": 24,
   "id": "31d53989",
   "metadata": {},
   "outputs": [
    {
     "name": "stdout",
     "output_type": "stream",
     "text": [
      "List [12, -7, 5, 64, -14, 0, -3, 8]\n",
      "Count of positive numbers: 4\n",
      "Count of negative numbers: 3\n"
     ]
    }
   ],
   "source": [
    "# 27.  Python program to count positive and negative numbers in a list \n",
    "numbers = [12, -7, 5, 64, -14, 0, -3, 8]\n",
    "count_positive = 0\n",
    "count_negative = 0\n",
    "\n",
    "for num in numbers:\n",
    "    if  num > 0:\n",
    "        count_positive +=1\n",
    "    elif num <0:\n",
    "        count_negative +=1\n",
    "\n",
    "print(\"List\", numbers)\n",
    "print(\"Count of positive numbers:\", count_positive)\n",
    "print(\"Count of negative numbers:\", count_negative)\n",
    "\n",
    "\n"
   ]
  },
  {
   "cell_type": "code",
   "execution_count": 31,
   "id": "c620d84b",
   "metadata": {},
   "outputs": [
    {
     "name": "stdout",
     "output_type": "stream",
     "text": [
      "[10, 30, 50, 70]\n"
     ]
    }
   ],
   "source": [
    "# 28.  Remove multiple elements from a list in Python \n",
    "a = [10, 20, 30, 40, 50, 60, 70]\n",
    "# Removing  elements 2 and 4 from the list\n",
    "remove=[20,40,60]\n",
    "\n",
    "# Remove elements using a simple for loop\n",
    "result=[]\n",
    "\n",
    "for num in a:\n",
    "    if num not in remove:\n",
    "        result.append(num)\n",
    "\n",
    "print(result)\n"
   ]
  },
  {
   "cell_type": "code",
   "execution_count": 1,
   "id": "8ea7fbb0",
   "metadata": {},
   "outputs": [
    {
     "name": "stdout",
     "output_type": "stream",
     "text": [
      "[(1, 2), (3,), (4, 5, 6)]\n"
     ]
    }
   ],
   "source": [
    "# 29.  Python | Remove empty tuples from a list \n",
    "my_list = [(), (1, 2), (), (3,), (), (4, 5, 6)]\n",
    "res=[]\n",
    "for i in my_list:\n",
    "    if i:\n",
    "        res.append(i)\n",
    "\n",
    "print(res)\n",
    "\n",
    "\n",
    "\n"
   ]
  },
  {
   "cell_type": "code",
   "execution_count": 2,
   "id": "98409498",
   "metadata": {},
   "outputs": [
    {
     "name": "stdout",
     "output_type": "stream",
     "text": [
      "[2, 3, 1]\n"
     ]
    }
   ],
   "source": [
    "# 30.  Python | Program to print duplicates from a list of integers \n",
    "\n",
    "a = [1, 2, 3, 4, 2, 5, 6, 3, 7, 8, 1]\n",
    "\n",
    "# Initialize an empty set to store seen elements\n",
    "b = set()   \n",
    "# List to store duplicates\n",
    "dup = []\n",
    "\n",
    "for i in a:\n",
    "    if i in b:\n",
    "        dup.append(i)\n",
    "    else:\n",
    "        b.add(i)\n",
    "\n",
    "print(dup)\n"
   ]
  },
  {
   "cell_type": "code",
   "execution_count": null,
   "id": "71d31401",
   "metadata": {},
   "outputs": [],
   "source": []
  }
 ],
 "metadata": {
  "kernelspec": {
   "display_name": "base",
   "language": "python",
   "name": "python3"
  },
  "language_info": {
   "codemirror_mode": {
    "name": "ipython",
    "version": 3
   },
   "file_extension": ".py",
   "mimetype": "text/x-python",
   "name": "python",
   "nbconvert_exporter": "python",
   "pygments_lexer": "ipython3",
   "version": "3.12.7"
  }
 },
 "nbformat": 4,
 "nbformat_minor": 5
}
