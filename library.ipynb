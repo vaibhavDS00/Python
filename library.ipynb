{
 "cells": [
  {
   "cell_type": "code",
   "execution_count": 5,
   "id": "5276ac64-f5f2-4d7e-a94c-dd7636fe4428",
   "metadata": {},
   "outputs": [],
   "source": [
    "#import the library\n",
    "import numpy as np\n",
    "\n"
   ]
  },
  {
   "cell_type": "code",
   "execution_count": 7,
   "id": "deb50525-8620-41ae-aab4-bab53f819720",
   "metadata": {},
   "outputs": [
    {
     "data": {
      "text/plain": [
       "array([1, 2, 3, 4])"
      ]
     },
     "execution_count": 7,
     "metadata": {},
     "output_type": "execute_result"
    }
   ],
   "source": [
    "lst=[1,2,3,4]\n",
    "np.array(lst)"
   ]
  },
  {
   "cell_type": "code",
   "execution_count": 13,
   "id": "c2b9110e-1448-42f6-8007-7e96622165ee",
   "metadata": {},
   "outputs": [
    {
     "data": {
      "text/plain": [
       "numpy.ndarray"
      ]
     },
     "execution_count": 13,
     "metadata": {},
     "output_type": "execute_result"
    }
   ],
   "source": [
    "lst=[1,2,3,4,8]\n",
    "arr=np.array(lst)\n",
    "type(arr)"
   ]
  },
  {
   "cell_type": "code",
   "execution_count": 7,
   "id": "b256eebf-e3d4-47a1-b7bd-f551d4f82b48",
   "metadata": {},
   "outputs": [],
   "source": [
    "lst1 =[1,2,3]\n",
    "lst2 =[2,3,4]\n",
    "lst3 =[9,7,5]\n",
    "\n",
    "arr1=np.array([lst1,lst2,lst3])"
   ]
  },
  {
   "cell_type": "code",
   "execution_count": 17,
   "id": "cb93c402-7c9e-43cd-8acc-ec25d9a1c175",
   "metadata": {},
   "outputs": [
    {
     "data": {
      "text/plain": [
       "(5,)"
      ]
     },
     "execution_count": 17,
     "metadata": {},
     "output_type": "execute_result"
    }
   ],
   "source": [
    "arr.shape"
   ]
  },
  {
   "cell_type": "code",
   "execution_count": 21,
   "id": "df359249-8358-4424-a56f-14b4772cdabd",
   "metadata": {},
   "outputs": [
    {
     "data": {
      "text/plain": [
       "array([[1, 2, 3],\n",
       "       [2, 3, 4],\n",
       "       [9, 7, 5]])"
      ]
     },
     "execution_count": 21,
     "metadata": {},
     "output_type": "execute_result"
    }
   ],
   "source": [
    "arr1"
   ]
  },
  {
   "cell_type": "code",
   "execution_count": 9,
   "id": "5ec8e9b9-7678-42ea-9191-73d33735c968",
   "metadata": {},
   "outputs": [
    {
     "data": {
      "text/plain": [
       "(3, 3)"
      ]
     },
     "execution_count": 9,
     "metadata": {},
     "output_type": "execute_result"
    }
   ],
   "source": [
    "arr1.shape"
   ]
  },
  {
   "cell_type": "code",
   "execution_count": 15,
   "id": "055b096a-4c72-4c4e-b133-e4ee4396e765",
   "metadata": {},
   "outputs": [
    {
     "data": {
      "text/plain": [
       "array([1, 2, 3, 4, 8])"
      ]
     },
     "execution_count": 15,
     "metadata": {},
     "output_type": "execute_result"
    }
   ],
   "source": [
    "arr"
   ]
  },
  {
   "cell_type": "code",
   "execution_count": 17,
   "id": "f3989c23-e9b9-4678-8e5a-c446304c0eb0",
   "metadata": {},
   "outputs": [
    {
     "data": {
      "text/plain": [
       "4"
      ]
     },
     "execution_count": 17,
     "metadata": {},
     "output_type": "execute_result"
    }
   ],
   "source": [
    "#indexing\n",
    "arr[3]"
   ]
  },
  {
   "cell_type": "code",
   "execution_count": 25,
   "id": "cf468dd8-2113-487f-abff-4934ccb14929",
   "metadata": {},
   "outputs": [
    {
     "data": {
      "text/plain": [
       "8"
      ]
     },
     "execution_count": 25,
     "metadata": {},
     "output_type": "execute_result"
    }
   ],
   "source": [
    "arr[-1]"
   ]
  },
  {
   "cell_type": "code",
   "execution_count": 27,
   "id": "97f6c63b-9ac9-4d9a-afac-85b3561fec79",
   "metadata": {},
   "outputs": [
    {
     "data": {
      "text/plain": [
       "array([1, 2, 3, 5])"
      ]
     },
     "execution_count": 27,
     "metadata": {},
     "output_type": "execute_result"
    }
   ],
   "source": [
    "arr[:-1]"
   ]
  },
  {
   "cell_type": "code",
   "execution_count": 31,
   "id": "cbde61d9-ec06-473c-9068-90591f885809",
   "metadata": {},
   "outputs": [
    {
     "data": {
      "text/plain": [
       "array([[9, 7, 5],\n",
       "       [2, 3, 4],\n",
       "       [1, 2, 3]])"
      ]
     },
     "execution_count": 31,
     "metadata": {},
     "output_type": "execute_result"
    }
   ],
   "source": [
    "arr1[::-1]"
   ]
  },
  {
   "cell_type": "code",
   "execution_count": 35,
   "id": "a56673d1-5181-4348-b164-4b0ac64a2e1d",
   "metadata": {},
   "outputs": [
    {
     "data": {
      "text/plain": [
       "array([[9, 7, 5]])"
      ]
     },
     "execution_count": 35,
     "metadata": {},
     "output_type": "execute_result"
    }
   ],
   "source": [
    "arr1[::-3]"
   ]
  },
  {
   "cell_type": "code",
   "execution_count": 37,
   "id": "a83b6c0f-6f72-4aa5-9286-c5bc6fa6a587",
   "metadata": {},
   "outputs": [
    {
     "data": {
      "text/plain": [
       "array([[1, 2, 3],\n",
       "       [2, 3, 4],\n",
       "       [9, 7, 5]])"
      ]
     },
     "execution_count": 37,
     "metadata": {},
     "output_type": "execute_result"
    }
   ],
   "source": [
    "arr1[-3::]"
   ]
  },
  {
   "cell_type": "code",
   "execution_count": 39,
   "id": "426855a0-bb4b-4ecc-abd2-ccd260c0e0d5",
   "metadata": {},
   "outputs": [
    {
     "data": {
      "text/plain": [
       "array([[3, 4],\n",
       "       [7, 5]])"
      ]
     },
     "execution_count": 39,
     "metadata": {},
     "output_type": "execute_result"
    }
   ],
   "source": [
    "arr1[1:,1:3]"
   ]
  },
  {
   "cell_type": "code",
   "execution_count": 41,
   "id": "9c18b189-f715-4e1b-a907-956f6020e0b9",
   "metadata": {},
   "outputs": [
    {
     "data": {
      "text/plain": [
       "array([], shape=(2, 0), dtype=int32)"
      ]
     },
     "execution_count": 41,
     "metadata": {},
     "output_type": "execute_result"
    }
   ],
   "source": [
    "arr1[1:,3:]"
   ]
  },
  {
   "cell_type": "code",
   "execution_count": 9,
   "id": "c9988618-0d1f-4412-95ae-9edd299d63a1",
   "metadata": {},
   "outputs": [
    {
     "name": "stdout",
     "output_type": "stream",
     "text": [
      "['b' 'c' 'd' 'e']\n"
     ]
    }
   ],
   "source": [
    "import numpy as np\n",
    "\n",
    "arr2= np.array(['a', 'b', 'c', 'd', 'e', 'f', 'g'])\n",
    "\n",
    "print(arr2[1:5])"
   ]
  },
  {
   "cell_type": "code",
   "execution_count": 11,
   "id": "e466efe4-ebc3-466c-8c6d-cb32c6b7b6a8",
   "metadata": {},
   "outputs": [
    {
     "name": "stdout",
     "output_type": "stream",
     "text": [
      "[2 4]\n"
     ]
    }
   ],
   "source": [
    "import numpy as np\n",
    "\n",
    "arr = np.array([1, 2, 3, 4, 5, 6, 7])\n",
    "\n",
    "print(arr[1:5:2])"
   ]
  },
  {
   "cell_type": "code",
   "execution_count": 13,
   "id": "8c8df6c4-56a2-4349-83f8-ad27d3a9b9e5",
   "metadata": {},
   "outputs": [
    {
     "name": "stdout",
     "output_type": "stream",
     "text": [
      "[42  2  3  4  5]\n",
      "[1 2 3 4 5]\n"
     ]
    }
   ],
   "source": [
    "arr = np.array([1,2,3,4,5])\n",
    "x= arr.copy()\n",
    "arr[0]= 42\n",
    "\n",
    "print(arr)\n",
    "print(x)"
   ]
  },
  {
   "cell_type": "code",
   "execution_count": 21,
   "id": "7ec0790c-75dc-4d79-a2e6-8165d7411a3d",
   "metadata": {},
   "outputs": [
    {
     "name": "stdout",
     "output_type": "stream",
     "text": [
      "[[[[[1 2 3 4]]]]]\n",
      "shape of array (1, 1, 1, 1, 4)\n"
     ]
    }
   ],
   "source": [
    "arr = np.array([1,2,3,4],ndmin = 5)\n",
    "print(arr)\n",
    "\n",
    "print(\"shape of array\",arr.shape)"
   ]
  },
  {
   "cell_type": "code",
   "execution_count": 1,
   "id": "44faa60b-4860-4910-978b-7e36902f1320",
   "metadata": {},
   "outputs": [
    {
     "name": "stdout",
     "output_type": "stream",
     "text": [
      "[1 2 3 4 5 6]\n"
     ]
    }
   ],
   "source": [
    "import numpy as np\n",
    "arr1= np.array([1,2,3])\n",
    "arr2= np.array([4,5,6])\n",
    "arr = np.concatenate((arr1,arr2))\n",
    "print(arr)"
   ]
  },
  {
   "cell_type": "code",
   "execution_count": 3,
   "id": "b44ee0fd-dfd7-428c-a8a5-25380c4faf14",
   "metadata": {},
   "outputs": [
    {
     "name": "stdout",
     "output_type": "stream",
     "text": [
      "[array([1, 2]), array([3, 4]), array([5]), array([6])]\n"
     ]
    }
   ],
   "source": [
    "import numpy as np\n",
    "arr= np.array([1,2,3,4,5,6])\n",
    "newarr = np.array_split(arr,4)\n",
    "print(newarr)"
   ]
  },
  {
   "cell_type": "code",
   "execution_count": 5,
   "id": "8aaa20e0-7eb1-4190-a17e-e35916d77167",
   "metadata": {},
   "outputs": [
    {
     "name": "stdout",
     "output_type": "stream",
     "text": [
      "(array([3, 5, 6], dtype=int64),)\n"
     ]
    }
   ],
   "source": [
    "arr = np.array([1,2,3,4,5,4,4])\n",
    "x = np.where(arr==4)\n",
    "print(x)"
   ]
  },
  {
   "cell_type": "code",
   "execution_count": 7,
   "id": "18400fc5-ad9d-4bee-8d59-b91c0ae5e1e7",
   "metadata": {},
   "outputs": [
    {
     "name": "stdout",
     "output_type": "stream",
     "text": [
      "[0 1 2 3]\n"
     ]
    }
   ],
   "source": [
    "import numpy as np\n",
    "arr = np.array([3,2,0,1])\n",
    "print(np.sort(arr))"
   ]
  },
  {
   "cell_type": "code",
   "execution_count": 9,
   "id": "51c01588-68e5-45d2-8360-26c6be6a3714",
   "metadata": {},
   "outputs": [
    {
     "name": "stdout",
     "output_type": "stream",
     "text": [
      "[3 2 1 0]\n"
     ]
    }
   ],
   "source": [
    "#for desending\n",
    "import numpy as np\n",
    "arr = np.array([3, 2, 0, 1])\n",
    "sorted_arr = np.sort(arr)[::-1]\n",
    "print(sorted_arr)"
   ]
  },
  {
   "cell_type": "code",
   "execution_count": 18,
   "id": "42b01c08-0be1-492a-89be-7fb1a24139d7",
   "metadata": {},
   "outputs": [
    {
     "name": "stdout",
     "output_type": "stream",
     "text": [
      "21\n"
     ]
    }
   ],
   "source": [
    "from numpy import random\n",
    "x= random.randint(100)\n",
    "print(x)"
   ]
  },
  {
   "cell_type": "code",
   "execution_count": 22,
   "id": "e4860a40-a2ed-480f-aefb-7a2291d20910",
   "metadata": {},
   "outputs": [
    {
     "name": "stdout",
     "output_type": "stream",
     "text": [
      "[24 49  6 45 86]\n"
     ]
    }
   ],
   "source": [
    "from numpy import random\n",
    "x= random.randint(100, size=(5))\n",
    "print(x)"
   ]
  },
  {
   "cell_type": "code",
   "execution_count": 28,
   "id": "fadbaab6-518a-49a6-9603-c5222e32e7cb",
   "metadata": {},
   "outputs": [
    {
     "name": "stdout",
     "output_type": "stream",
     "text": [
      "[[99 98 65 18 41]\n",
      " [33 18 97 72 20]\n",
      " [30 77 79  8 28]] <class 'numpy.ndarray'>\n"
     ]
    }
   ],
   "source": [
    "from numpy import random\n",
    "x= random.randint(100, size=(3,5))\n",
    "print(x,type(x))"
   ]
  },
  {
   "cell_type": "code",
   "execution_count": 32,
   "id": "45b385e0-e07e-49b4-bd98-1f5935533b17",
   "metadata": {},
   "outputs": [
    {
     "data": {
      "text/plain": [
       "array([ 1.,  3.,  5.,  7.,  9., 11., 13., 15., 17., 19.], dtype=float32)"
      ]
     },
     "execution_count": 32,
     "metadata": {},
     "output_type": "execute_result"
    }
   ],
   "source": [
    "import numpy as np\n",
    "\n",
    "np.arange(1,20,2,\n",
    "           dtype = np.float32)"
   ]
  },
  {
   "cell_type": "code",
   "execution_count": 36,
   "id": "82ef8ab3-fd30-4caf-a400-a2f52eca40b7",
   "metadata": {},
   "outputs": [
    {
     "data": {
      "text/plain": [
       "array([ 3,  6, 10])"
      ]
     },
     "execution_count": 36,
     "metadata": {},
     "output_type": "execute_result"
    }
   ],
   "source": [
    "import numpy as np\n",
    "\n",
    "np.linspace(3.5,10,3,\n",
    "             dtype=np.int32)"
   ]
  },
  {
   "cell_type": "code",
   "execution_count": 38,
   "id": "d67e8ef3-e7d3-498d-8965-4d15789413f2",
   "metadata": {},
   "outputs": [
    {
     "data": {
      "text/plain": [
       "array([[4128860, 6619251, 3539056],\n",
       "       [6029375, 7536754, 4259932],\n",
       "       [3801155, 7471196, 7340144],\n",
       "       [5570652, 6946913, 6357060]])"
      ]
     },
     "execution_count": 38,
     "metadata": {},
     "output_type": "execute_result"
    }
   ],
   "source": [
    "import numpy as np\n",
    "\n",
    "np.empty([4,3],\n",
    "         dtype = np.int32,\n",
    "         order = \"f\")"
   ]
  },
  {
   "cell_type": "code",
   "execution_count": null,
   "id": "752f8cc4-fd19-47c2-82d0-1a0d1b990ca6",
   "metadata": {},
   "outputs": [],
   "source": []
  }
 ],
 "metadata": {
  "kernelspec": {
   "display_name": "Python [conda env:base] *",
   "language": "python",
   "name": "conda-base-py"
  },
  "language_info": {
   "codemirror_mode": {
    "name": "ipython",
    "version": 3
   },
   "file_extension": ".py",
   "mimetype": "text/x-python",
   "name": "python",
   "nbconvert_exporter": "python",
   "pygments_lexer": "ipython3",
   "version": "3.12.7"
  }
 },
 "nbformat": 4,
 "nbformat_minor": 5
}
